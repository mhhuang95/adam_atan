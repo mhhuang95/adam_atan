{
 "cells": [
  {
   "cell_type": "code",
   "execution_count": 1,
   "metadata": {},
   "outputs": [],
   "source": [
    "import torch\n",
    "from torch import nn"
   ]
  },
  {
   "cell_type": "code",
   "execution_count": 2,
   "metadata": {},
   "outputs": [],
   "source": [
    "model = nn.Linear(10, 1)"
   ]
  },
  {
   "cell_type": "code",
   "execution_count": 3,
   "metadata": {},
   "outputs": [],
   "source": [
    "from adam_atan2_pytorch.adam_atan2 import AdamAtan2\n",
    "from adam_atan2_pytorch.adam import Adam"
   ]
  },
  {
   "cell_type": "code",
   "execution_count": 4,
   "metadata": {},
   "outputs": [],
   "source": [
    "opt = Adam(model.parameters(), lr = 1e-4)"
   ]
  },
  {
   "cell_type": "code",
   "execution_count": 5,
   "metadata": {},
   "outputs": [
    {
     "name": "stdout",
     "output_type": "stream",
     "text": [
      "tensor([0.4849], grad_fn=<AddBackward0>)\n",
      "tensor([0.0140], grad_fn=<AddBackward0>)\n",
      "tensor([0.3703], grad_fn=<AddBackward0>)\n",
      "tensor([-0.2269], grad_fn=<AddBackward0>)\n",
      "tensor([0.0690], grad_fn=<AddBackward0>)\n",
      "tensor([-0.6051], grad_fn=<AddBackward0>)\n",
      "tensor([1.0430], grad_fn=<AddBackward0>)\n",
      "tensor([-0.2708], grad_fn=<AddBackward0>)\n",
      "tensor([0.3395], grad_fn=<AddBackward0>)\n",
      "tensor([0.5088], grad_fn=<AddBackward0>)\n",
      "tensor([-0.1463], grad_fn=<AddBackward0>)\n",
      "tensor([0.5281], grad_fn=<AddBackward0>)\n",
      "tensor([-0.9807], grad_fn=<AddBackward0>)\n",
      "tensor([0.2824], grad_fn=<AddBackward0>)\n",
      "tensor([1.0963], grad_fn=<AddBackward0>)\n",
      "tensor([0.4211], grad_fn=<AddBackward0>)\n",
      "tensor([-0.3287], grad_fn=<AddBackward0>)\n",
      "tensor([-0.3031], grad_fn=<AddBackward0>)\n",
      "tensor([0.6282], grad_fn=<AddBackward0>)\n",
      "tensor([-0.1543], grad_fn=<AddBackward0>)\n",
      "tensor([-0.2436], grad_fn=<AddBackward0>)\n",
      "tensor([-0.2526], grad_fn=<AddBackward0>)\n",
      "tensor([0.2858], grad_fn=<AddBackward0>)\n",
      "tensor([-0.0408], grad_fn=<AddBackward0>)\n",
      "tensor([-0.1200], grad_fn=<AddBackward0>)\n",
      "tensor([0.1747], grad_fn=<AddBackward0>)\n",
      "tensor([0.1711], grad_fn=<AddBackward0>)\n",
      "tensor([0.3524], grad_fn=<AddBackward0>)\n",
      "tensor([0.2833], grad_fn=<AddBackward0>)\n",
      "tensor([0.2636], grad_fn=<AddBackward0>)\n",
      "tensor([-0.7802], grad_fn=<AddBackward0>)\n",
      "tensor([0.4227], grad_fn=<AddBackward0>)\n",
      "tensor([0.0233], grad_fn=<AddBackward0>)\n",
      "tensor([-0.6304], grad_fn=<AddBackward0>)\n",
      "tensor([0.0783], grad_fn=<AddBackward0>)\n",
      "tensor([0.5864], grad_fn=<AddBackward0>)\n",
      "tensor([0.1576], grad_fn=<AddBackward0>)\n",
      "tensor([-0.3626], grad_fn=<AddBackward0>)\n",
      "tensor([0.4718], grad_fn=<AddBackward0>)\n",
      "tensor([0.5217], grad_fn=<AddBackward0>)\n",
      "tensor([-0.1066], grad_fn=<AddBackward0>)\n",
      "tensor([-0.7512], grad_fn=<AddBackward0>)\n",
      "tensor([-0.3454], grad_fn=<AddBackward0>)\n",
      "tensor([0.2497], grad_fn=<AddBackward0>)\n",
      "tensor([0.3395], grad_fn=<AddBackward0>)\n",
      "tensor([-0.1753], grad_fn=<AddBackward0>)\n",
      "tensor([0.0658], grad_fn=<AddBackward0>)\n",
      "tensor([-0.0084], grad_fn=<AddBackward0>)\n",
      "tensor([-0.8190], grad_fn=<AddBackward0>)\n",
      "tensor([-0.0367], grad_fn=<AddBackward0>)\n",
      "tensor([-0.0562], grad_fn=<AddBackward0>)\n",
      "tensor([-0.9041], grad_fn=<AddBackward0>)\n",
      "tensor([-0.4380], grad_fn=<AddBackward0>)\n",
      "tensor([0.0531], grad_fn=<AddBackward0>)\n",
      "tensor([-0.0079], grad_fn=<AddBackward0>)\n",
      "tensor([0.4894], grad_fn=<AddBackward0>)\n",
      "tensor([0.7602], grad_fn=<AddBackward0>)\n",
      "tensor([0.0813], grad_fn=<AddBackward0>)\n",
      "tensor([-0.4515], grad_fn=<AddBackward0>)\n",
      "tensor([-0.6077], grad_fn=<AddBackward0>)\n",
      "tensor([0.4035], grad_fn=<AddBackward0>)\n",
      "tensor([-0.6574], grad_fn=<AddBackward0>)\n",
      "tensor([0.3021], grad_fn=<AddBackward0>)\n",
      "tensor([-0.5475], grad_fn=<AddBackward0>)\n",
      "tensor([-0.2029], grad_fn=<AddBackward0>)\n",
      "tensor([-0.1942], grad_fn=<AddBackward0>)\n",
      "tensor([0.0787], grad_fn=<AddBackward0>)\n",
      "tensor([1.3760], grad_fn=<AddBackward0>)\n",
      "tensor([0.4299], grad_fn=<AddBackward0>)\n",
      "tensor([1.1544], grad_fn=<AddBackward0>)\n",
      "tensor([-0.2522], grad_fn=<AddBackward0>)\n",
      "tensor([-0.3456], grad_fn=<AddBackward0>)\n",
      "tensor([-0.6523], grad_fn=<AddBackward0>)\n",
      "tensor([0.2062], grad_fn=<AddBackward0>)\n",
      "tensor([-1.0799], grad_fn=<AddBackward0>)\n",
      "tensor([0.2022], grad_fn=<AddBackward0>)\n",
      "tensor([-0.4998], grad_fn=<AddBackward0>)\n",
      "tensor([0.4908], grad_fn=<AddBackward0>)\n",
      "tensor([0.6635], grad_fn=<AddBackward0>)\n",
      "tensor([-0.0091], grad_fn=<AddBackward0>)\n",
      "tensor([-0.0812], grad_fn=<AddBackward0>)\n",
      "tensor([-0.2925], grad_fn=<AddBackward0>)\n",
      "tensor([0.4368], grad_fn=<AddBackward0>)\n",
      "tensor([0.9797], grad_fn=<AddBackward0>)\n",
      "tensor([-0.4386], grad_fn=<AddBackward0>)\n",
      "tensor([0.2170], grad_fn=<AddBackward0>)\n",
      "tensor([0.5647], grad_fn=<AddBackward0>)\n",
      "tensor([0.3104], grad_fn=<AddBackward0>)\n",
      "tensor([0.1298], grad_fn=<AddBackward0>)\n",
      "tensor([0.7835], grad_fn=<AddBackward0>)\n",
      "tensor([-0.0788], grad_fn=<AddBackward0>)\n",
      "tensor([-0.4352], grad_fn=<AddBackward0>)\n",
      "tensor([0.6625], grad_fn=<AddBackward0>)\n",
      "tensor([-0.5362], grad_fn=<AddBackward0>)\n",
      "tensor([1.0241], grad_fn=<AddBackward0>)\n",
      "tensor([0.9980], grad_fn=<AddBackward0>)\n",
      "tensor([0.5305], grad_fn=<AddBackward0>)\n",
      "tensor([0.0510], grad_fn=<AddBackward0>)\n",
      "tensor([0.0952], grad_fn=<AddBackward0>)\n",
      "tensor([0.7734], grad_fn=<AddBackward0>)\n"
     ]
    }
   ],
   "source": [
    "for _ in range(100):\n",
    "    loss = model(torch.randn(10))\n",
    "    print(loss)\n",
    "    loss.backward()\n",
    "\n",
    "    opt.step()\n",
    "    opt.zero_grad()"
   ]
  },
  {
   "cell_type": "code",
   "execution_count": null,
   "metadata": {},
   "outputs": [],
   "source": []
  }
 ],
 "metadata": {
  "kernelspec": {
   "display_name": "base",
   "language": "python",
   "name": "python3"
  },
  "language_info": {
   "codemirror_mode": {
    "name": "ipython",
    "version": 3
   },
   "file_extension": ".py",
   "mimetype": "text/x-python",
   "name": "python",
   "nbconvert_exporter": "python",
   "pygments_lexer": "ipython3",
   "version": "3.7.10"
  }
 },
 "nbformat": 4,
 "nbformat_minor": 2
}
