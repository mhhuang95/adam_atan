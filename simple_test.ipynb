{
 "cells": [
  {
   "cell_type": "code",
   "execution_count": 6,
   "metadata": {},
   "outputs": [],
   "source": [
    "import torch\n",
    "from torch import nn"
   ]
  },
  {
   "cell_type": "code",
   "execution_count": 7,
   "metadata": {},
   "outputs": [],
   "source": [
    "model = nn.Linear(10, 1)"
   ]
  },
  {
   "cell_type": "code",
   "execution_count": 8,
   "metadata": {},
   "outputs": [],
   "source": [
    "from adam_atan2_pytorch.adam_atan2 import AdamAtan2\n",
    "from adam_atan2_pytorch.adam import Adam"
   ]
  },
  {
   "cell_type": "code",
   "execution_count": 9,
   "metadata": {},
   "outputs": [],
   "source": [
    "opt = AdamAtan2(model.parameters(), lr = 1e-4)"
   ]
  },
  {
   "cell_type": "code",
   "execution_count": 10,
   "metadata": {},
   "outputs": [
    {
     "name": "stdout",
     "output_type": "stream",
     "text": [
      "tensor([0.5081], grad_fn=<AddBackward0>)\n",
      "tensor([-0.7780], grad_fn=<AddBackward0>)\n",
      "tensor([-0.0715], grad_fn=<AddBackward0>)\n",
      "tensor([-0.9616], grad_fn=<AddBackward0>)\n",
      "tensor([0.8527], grad_fn=<AddBackward0>)\n",
      "tensor([0.2301], grad_fn=<AddBackward0>)\n",
      "tensor([0.0387], grad_fn=<AddBackward0>)\n",
      "tensor([-1.0102], grad_fn=<AddBackward0>)\n",
      "tensor([-0.1313], grad_fn=<AddBackward0>)\n",
      "tensor([0.5027], grad_fn=<AddBackward0>)\n",
      "tensor([-0.6924], grad_fn=<AddBackward0>)\n",
      "tensor([-1.2139], grad_fn=<AddBackward0>)\n",
      "tensor([-0.6623], grad_fn=<AddBackward0>)\n",
      "tensor([0.5148], grad_fn=<AddBackward0>)\n",
      "tensor([0.0584], grad_fn=<AddBackward0>)\n",
      "tensor([-0.0637], grad_fn=<AddBackward0>)\n",
      "tensor([-0.1712], grad_fn=<AddBackward0>)\n",
      "tensor([0.4234], grad_fn=<AddBackward0>)\n",
      "tensor([-0.7570], grad_fn=<AddBackward0>)\n",
      "tensor([0.3910], grad_fn=<AddBackward0>)\n",
      "tensor([0.0536], grad_fn=<AddBackward0>)\n",
      "tensor([-0.9070], grad_fn=<AddBackward0>)\n",
      "tensor([0.1549], grad_fn=<AddBackward0>)\n",
      "tensor([-0.6407], grad_fn=<AddBackward0>)\n",
      "tensor([0.9661], grad_fn=<AddBackward0>)\n",
      "tensor([0.2805], grad_fn=<AddBackward0>)\n",
      "tensor([0.6520], grad_fn=<AddBackward0>)\n",
      "tensor([1.0161], grad_fn=<AddBackward0>)\n",
      "tensor([-0.4839], grad_fn=<AddBackward0>)\n",
      "tensor([-0.5799], grad_fn=<AddBackward0>)\n",
      "tensor([-0.2507], grad_fn=<AddBackward0>)\n",
      "tensor([0.3277], grad_fn=<AddBackward0>)\n",
      "tensor([0.6662], grad_fn=<AddBackward0>)\n",
      "tensor([-0.1704], grad_fn=<AddBackward0>)\n",
      "tensor([-0.7168], grad_fn=<AddBackward0>)\n",
      "tensor([-0.7007], grad_fn=<AddBackward0>)\n",
      "tensor([1.2894], grad_fn=<AddBackward0>)\n",
      "tensor([-0.6810], grad_fn=<AddBackward0>)\n",
      "tensor([0.1198], grad_fn=<AddBackward0>)\n",
      "tensor([0.4603], grad_fn=<AddBackward0>)\n",
      "tensor([-0.2123], grad_fn=<AddBackward0>)\n",
      "tensor([0.3862], grad_fn=<AddBackward0>)\n",
      "tensor([-0.5021], grad_fn=<AddBackward0>)\n",
      "tensor([0.1808], grad_fn=<AddBackward0>)\n",
      "tensor([0.2184], grad_fn=<AddBackward0>)\n",
      "tensor([-0.4675], grad_fn=<AddBackward0>)\n",
      "tensor([0.4023], grad_fn=<AddBackward0>)\n",
      "tensor([-0.0213], grad_fn=<AddBackward0>)\n",
      "tensor([0.5651], grad_fn=<AddBackward0>)\n",
      "tensor([-0.5502], grad_fn=<AddBackward0>)\n",
      "tensor([0.4917], grad_fn=<AddBackward0>)\n",
      "tensor([-0.6398], grad_fn=<AddBackward0>)\n",
      "tensor([0.3830], grad_fn=<AddBackward0>)\n",
      "tensor([-1.6323], grad_fn=<AddBackward0>)\n",
      "tensor([0.3467], grad_fn=<AddBackward0>)\n",
      "tensor([0.2766], grad_fn=<AddBackward0>)\n",
      "tensor([-0.2542], grad_fn=<AddBackward0>)\n",
      "tensor([-0.6383], grad_fn=<AddBackward0>)\n",
      "tensor([-0.4754], grad_fn=<AddBackward0>)\n",
      "tensor([-0.0045], grad_fn=<AddBackward0>)\n",
      "tensor([-0.8531], grad_fn=<AddBackward0>)\n",
      "tensor([-0.1128], grad_fn=<AddBackward0>)\n",
      "tensor([-0.5586], grad_fn=<AddBackward0>)\n",
      "tensor([-0.2640], grad_fn=<AddBackward0>)\n",
      "tensor([-1.0056], grad_fn=<AddBackward0>)\n",
      "tensor([-0.6416], grad_fn=<AddBackward0>)\n",
      "tensor([-1.0762], grad_fn=<AddBackward0>)\n",
      "tensor([-0.3528], grad_fn=<AddBackward0>)\n",
      "tensor([0.7685], grad_fn=<AddBackward0>)\n",
      "tensor([-0.2837], grad_fn=<AddBackward0>)\n",
      "tensor([-0.5346], grad_fn=<AddBackward0>)\n",
      "tensor([-0.8294], grad_fn=<AddBackward0>)\n",
      "tensor([0.4819], grad_fn=<AddBackward0>)\n",
      "tensor([0.7364], grad_fn=<AddBackward0>)\n",
      "tensor([-0.5489], grad_fn=<AddBackward0>)\n",
      "tensor([0.6219], grad_fn=<AddBackward0>)\n",
      "tensor([-0.1391], grad_fn=<AddBackward0>)\n",
      "tensor([0.4294], grad_fn=<AddBackward0>)\n",
      "tensor([-0.2435], grad_fn=<AddBackward0>)\n",
      "tensor([-0.8142], grad_fn=<AddBackward0>)\n",
      "tensor([-0.1453], grad_fn=<AddBackward0>)\n",
      "tensor([0.1780], grad_fn=<AddBackward0>)\n",
      "tensor([-0.9415], grad_fn=<AddBackward0>)\n",
      "tensor([-0.1714], grad_fn=<AddBackward0>)\n",
      "tensor([0.6466], grad_fn=<AddBackward0>)\n",
      "tensor([0.2818], grad_fn=<AddBackward0>)\n",
      "tensor([-0.6100], grad_fn=<AddBackward0>)\n",
      "tensor([-1.0039], grad_fn=<AddBackward0>)\n",
      "tensor([-0.3969], grad_fn=<AddBackward0>)\n",
      "tensor([-1.6054], grad_fn=<AddBackward0>)\n",
      "tensor([-0.5473], grad_fn=<AddBackward0>)\n",
      "tensor([-0.4493], grad_fn=<AddBackward0>)\n",
      "tensor([-0.2693], grad_fn=<AddBackward0>)\n",
      "tensor([-0.1756], grad_fn=<AddBackward0>)\n",
      "tensor([-1.0282], grad_fn=<AddBackward0>)\n",
      "tensor([0.8296], grad_fn=<AddBackward0>)\n",
      "tensor([-0.7310], grad_fn=<AddBackward0>)\n",
      "tensor([-1.3943], grad_fn=<AddBackward0>)\n",
      "tensor([0.1938], grad_fn=<AddBackward0>)\n",
      "tensor([0.0239], grad_fn=<AddBackward0>)\n"
     ]
    }
   ],
   "source": [
    "for _ in range(100):\n",
    "    loss = model(torch.randn(10))\n",
    "    print(loss)\n",
    "    loss.backward()\n",
    "\n",
    "    opt.step()\n",
    "    opt.zero_grad()"
   ]
  },
  {
   "cell_type": "code",
   "execution_count": null,
   "metadata": {},
   "outputs": [],
   "source": []
  }
 ],
 "metadata": {
  "kernelspec": {
   "display_name": "base",
   "language": "python",
   "name": "python3"
  },
  "language_info": {
   "codemirror_mode": {
    "name": "ipython",
    "version": 3
   },
   "file_extension": ".py",
   "mimetype": "text/x-python",
   "name": "python",
   "nbconvert_exporter": "python",
   "pygments_lexer": "ipython3",
   "version": "3.7.10"
  }
 },
 "nbformat": 4,
 "nbformat_minor": 2
}
