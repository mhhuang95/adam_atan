{
 "cells": [
  {
   "cell_type": "code",
   "execution_count": 6,
   "metadata": {},
   "outputs": [],
   "source": [
    "import torch\n",
    "from torch import nn"
   ]
  },
  {
   "cell_type": "code",
   "execution_count": 7,
   "metadata": {},
   "outputs": [],
   "source": [
    "model = nn.Linear(10, 1)"
   ]
  },
  {
   "cell_type": "code",
   "execution_count": 11,
   "metadata": {},
   "outputs": [],
   "source": [
    "from adam_atan2_pytorch.adam_atan2 import AdamAtan2\n",
    "from adam_atan2_pytorch.adam import Adam\n",
    "from adam_atan2_pytorch.adopt import Adopt"
   ]
  },
  {
   "cell_type": "code",
   "execution_count": 14,
   "metadata": {},
   "outputs": [],
   "source": [
    "opt = Adopt(model.parameters(), lr = 1e-4)"
   ]
  },
  {
   "cell_type": "code",
   "execution_count": 15,
   "metadata": {},
   "outputs": [
    {
     "name": "stdout",
     "output_type": "stream",
     "text": [
      "tensor([0.0195], grad_fn=<AddBackward0>)\n",
      "tensor([0.1518], grad_fn=<AddBackward0>)\n",
      "tensor([0.2942], grad_fn=<AddBackward0>)\n",
      "tensor([0.1752], grad_fn=<AddBackward0>)\n",
      "tensor([-0.6096], grad_fn=<AddBackward0>)\n",
      "tensor([-0.0597], grad_fn=<AddBackward0>)\n",
      "tensor([-0.3674], grad_fn=<AddBackward0>)\n",
      "tensor([-1.0797], grad_fn=<AddBackward0>)\n",
      "tensor([0.0859], grad_fn=<AddBackward0>)\n",
      "tensor([0.0393], grad_fn=<AddBackward0>)\n",
      "tensor([1.8167], grad_fn=<AddBackward0>)\n",
      "tensor([0.8703], grad_fn=<AddBackward0>)\n",
      "tensor([0.9992], grad_fn=<AddBackward0>)\n",
      "tensor([-0.9320], grad_fn=<AddBackward0>)\n",
      "tensor([-0.4594], grad_fn=<AddBackward0>)\n",
      "tensor([-0.8157], grad_fn=<AddBackward0>)\n",
      "tensor([-1.3112], grad_fn=<AddBackward0>)\n",
      "tensor([-0.9319], grad_fn=<AddBackward0>)\n",
      "tensor([-0.2340], grad_fn=<AddBackward0>)\n",
      "tensor([-0.4658], grad_fn=<AddBackward0>)\n",
      "tensor([0.5955], grad_fn=<AddBackward0>)\n",
      "tensor([-0.5315], grad_fn=<AddBackward0>)\n",
      "tensor([-0.8335], grad_fn=<AddBackward0>)\n",
      "tensor([-0.1722], grad_fn=<AddBackward0>)\n",
      "tensor([1.1436], grad_fn=<AddBackward0>)\n",
      "tensor([-0.0160], grad_fn=<AddBackward0>)\n",
      "tensor([0.4167], grad_fn=<AddBackward0>)\n",
      "tensor([0.0659], grad_fn=<AddBackward0>)\n",
      "tensor([0.5652], grad_fn=<AddBackward0>)\n",
      "tensor([-0.1085], grad_fn=<AddBackward0>)\n",
      "tensor([-0.1957], grad_fn=<AddBackward0>)\n",
      "tensor([-0.6977], grad_fn=<AddBackward0>)\n",
      "tensor([0.0363], grad_fn=<AddBackward0>)\n",
      "tensor([-0.7731], grad_fn=<AddBackward0>)\n",
      "tensor([0.2994], grad_fn=<AddBackward0>)\n",
      "tensor([-0.5518], grad_fn=<AddBackward0>)\n",
      "tensor([-0.7403], grad_fn=<AddBackward0>)\n",
      "tensor([-0.0113], grad_fn=<AddBackward0>)\n",
      "tensor([-0.2904], grad_fn=<AddBackward0>)\n",
      "tensor([-0.2771], grad_fn=<AddBackward0>)\n",
      "tensor([0.4862], grad_fn=<AddBackward0>)\n",
      "tensor([0.5732], grad_fn=<AddBackward0>)\n",
      "tensor([0.0562], grad_fn=<AddBackward0>)\n",
      "tensor([-0.2104], grad_fn=<AddBackward0>)\n",
      "tensor([0.0294], grad_fn=<AddBackward0>)\n",
      "tensor([0.5820], grad_fn=<AddBackward0>)\n",
      "tensor([-0.0026], grad_fn=<AddBackward0>)\n",
      "tensor([-0.0671], grad_fn=<AddBackward0>)\n",
      "tensor([-0.2953], grad_fn=<AddBackward0>)\n",
      "tensor([0.1048], grad_fn=<AddBackward0>)\n",
      "tensor([0.4504], grad_fn=<AddBackward0>)\n",
      "tensor([-0.7030], grad_fn=<AddBackward0>)\n",
      "tensor([-0.6420], grad_fn=<AddBackward0>)\n",
      "tensor([-0.1932], grad_fn=<AddBackward0>)\n",
      "tensor([-0.8556], grad_fn=<AddBackward0>)\n",
      "tensor([0.4267], grad_fn=<AddBackward0>)\n",
      "tensor([-0.6111], grad_fn=<AddBackward0>)\n",
      "tensor([0.2951], grad_fn=<AddBackward0>)\n",
      "tensor([-0.4131], grad_fn=<AddBackward0>)\n",
      "tensor([-0.3630], grad_fn=<AddBackward0>)\n",
      "tensor([-0.4059], grad_fn=<AddBackward0>)\n",
      "tensor([-0.5652], grad_fn=<AddBackward0>)\n",
      "tensor([-0.5854], grad_fn=<AddBackward0>)\n",
      "tensor([-1.3387], grad_fn=<AddBackward0>)\n",
      "tensor([0.4907], grad_fn=<AddBackward0>)\n",
      "tensor([0.1752], grad_fn=<AddBackward0>)\n",
      "tensor([0.3340], grad_fn=<AddBackward0>)\n",
      "tensor([0.2935], grad_fn=<AddBackward0>)\n",
      "tensor([-0.1670], grad_fn=<AddBackward0>)\n",
      "tensor([0.7319], grad_fn=<AddBackward0>)\n",
      "tensor([-0.3274], grad_fn=<AddBackward0>)\n",
      "tensor([0.3782], grad_fn=<AddBackward0>)\n",
      "tensor([0.3223], grad_fn=<AddBackward0>)\n",
      "tensor([-0.6055], grad_fn=<AddBackward0>)\n",
      "tensor([-0.4796], grad_fn=<AddBackward0>)\n",
      "tensor([-0.0243], grad_fn=<AddBackward0>)\n",
      "tensor([0.6191], grad_fn=<AddBackward0>)\n",
      "tensor([0.8183], grad_fn=<AddBackward0>)\n",
      "tensor([-0.8693], grad_fn=<AddBackward0>)\n",
      "tensor([0.4311], grad_fn=<AddBackward0>)\n",
      "tensor([0.1951], grad_fn=<AddBackward0>)\n",
      "tensor([0.4954], grad_fn=<AddBackward0>)\n",
      "tensor([-0.8643], grad_fn=<AddBackward0>)\n",
      "tensor([-0.1581], grad_fn=<AddBackward0>)\n",
      "tensor([-0.3925], grad_fn=<AddBackward0>)\n",
      "tensor([-1.2372], grad_fn=<AddBackward0>)\n",
      "tensor([-0.4980], grad_fn=<AddBackward0>)\n",
      "tensor([0.9401], grad_fn=<AddBackward0>)\n",
      "tensor([0.3386], grad_fn=<AddBackward0>)\n",
      "tensor([-0.0226], grad_fn=<AddBackward0>)\n",
      "tensor([0.0111], grad_fn=<AddBackward0>)\n",
      "tensor([0.0264], grad_fn=<AddBackward0>)\n",
      "tensor([0.2154], grad_fn=<AddBackward0>)\n",
      "tensor([1.1699], grad_fn=<AddBackward0>)\n",
      "tensor([1.1243], grad_fn=<AddBackward0>)\n",
      "tensor([-0.6927], grad_fn=<AddBackward0>)\n",
      "tensor([-0.1120], grad_fn=<AddBackward0>)\n",
      "tensor([-0.7797], grad_fn=<AddBackward0>)\n",
      "tensor([-0.6456], grad_fn=<AddBackward0>)\n",
      "tensor([-0.4187], grad_fn=<AddBackward0>)\n"
     ]
    }
   ],
   "source": [
    "for _ in range(100):\n",
    "    loss = model(torch.randn(10))\n",
    "    print(loss)\n",
    "    loss.backward()\n",
    "\n",
    "    opt.step()\n",
    "    opt.zero_grad()"
   ]
  },
  {
   "cell_type": "code",
   "execution_count": null,
   "metadata": {},
   "outputs": [],
   "source": []
  }
 ],
 "metadata": {
  "kernelspec": {
   "display_name": "base",
   "language": "python",
   "name": "python3"
  },
  "language_info": {
   "codemirror_mode": {
    "name": "ipython",
    "version": 3
   },
   "file_extension": ".py",
   "mimetype": "text/x-python",
   "name": "python",
   "nbconvert_exporter": "python",
   "pygments_lexer": "ipython3",
   "version": "3.7.10"
  }
 },
 "nbformat": 4,
 "nbformat_minor": 2
}
