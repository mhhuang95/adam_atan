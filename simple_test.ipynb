{
 "cells": [
  {
   "cell_type": "code",
   "execution_count": 4,
   "metadata": {},
   "outputs": [],
   "source": [
    "import torch\n",
    "from torch import nn"
   ]
  },
  {
   "cell_type": "code",
   "execution_count": 5,
   "metadata": {},
   "outputs": [],
   "source": [
    "model = nn.Linear(10, 1)"
   ]
  },
  {
   "cell_type": "code",
   "execution_count": 6,
   "metadata": {},
   "outputs": [],
   "source": [
    "from adam_atan2_pytorch.adam_atan2 import AdamAtan2\n",
    "from adam_atan2_pytorch.adam import Adam\n",
    "from adam_atan2_pytorch.adopt import Adopt"
   ]
  },
  {
   "cell_type": "code",
   "execution_count": 7,
   "metadata": {},
   "outputs": [],
   "source": [
    "opt = Adopt(model.parameters(), lr = 1e-4)"
   ]
  },
  {
   "cell_type": "code",
   "execution_count": 8,
   "metadata": {},
   "outputs": [
    {
     "name": "stdout",
     "output_type": "stream",
     "text": [
      "tensor([-0.4808], grad_fn=<AddBackward0>)\n",
      "tensor([0.2765], grad_fn=<AddBackward0>)\n",
      "tensor([0.1107], grad_fn=<AddBackward0>)\n",
      "tensor([0.3263], grad_fn=<AddBackward0>)\n",
      "tensor([0.2531], grad_fn=<AddBackward0>)\n",
      "tensor([-0.2419], grad_fn=<AddBackward0>)\n",
      "tensor([1.0438], grad_fn=<AddBackward0>)\n",
      "tensor([0.6945], grad_fn=<AddBackward0>)\n",
      "tensor([0.0757], grad_fn=<AddBackward0>)\n",
      "tensor([0.3172], grad_fn=<AddBackward0>)\n",
      "tensor([-0.0769], grad_fn=<AddBackward0>)\n",
      "tensor([1.3694], grad_fn=<AddBackward0>)\n",
      "tensor([0.0730], grad_fn=<AddBackward0>)\n",
      "tensor([0.8081], grad_fn=<AddBackward0>)\n",
      "tensor([0.0917], grad_fn=<AddBackward0>)\n",
      "tensor([-0.1095], grad_fn=<AddBackward0>)\n",
      "tensor([0.4680], grad_fn=<AddBackward0>)\n",
      "tensor([-0.7059], grad_fn=<AddBackward0>)\n",
      "tensor([0.5573], grad_fn=<AddBackward0>)\n",
      "tensor([-0.8133], grad_fn=<AddBackward0>)\n",
      "tensor([-0.7308], grad_fn=<AddBackward0>)\n",
      "tensor([0.3677], grad_fn=<AddBackward0>)\n",
      "tensor([0.3250], grad_fn=<AddBackward0>)\n",
      "tensor([0.3489], grad_fn=<AddBackward0>)\n",
      "tensor([1.0126], grad_fn=<AddBackward0>)\n",
      "tensor([0.0720], grad_fn=<AddBackward0>)\n",
      "tensor([0.7434], grad_fn=<AddBackward0>)\n",
      "tensor([-0.2890], grad_fn=<AddBackward0>)\n",
      "tensor([-0.9630], grad_fn=<AddBackward0>)\n",
      "tensor([0.4144], grad_fn=<AddBackward0>)\n",
      "tensor([-0.3893], grad_fn=<AddBackward0>)\n",
      "tensor([0.2895], grad_fn=<AddBackward0>)\n",
      "tensor([0.3139], grad_fn=<AddBackward0>)\n",
      "tensor([-0.3706], grad_fn=<AddBackward0>)\n",
      "tensor([-0.6716], grad_fn=<AddBackward0>)\n",
      "tensor([-0.0912], grad_fn=<AddBackward0>)\n",
      "tensor([0.1072], grad_fn=<AddBackward0>)\n",
      "tensor([0.5189], grad_fn=<AddBackward0>)\n",
      "tensor([1.1006], grad_fn=<AddBackward0>)\n",
      "tensor([-0.1483], grad_fn=<AddBackward0>)\n",
      "tensor([-0.8418], grad_fn=<AddBackward0>)\n",
      "tensor([0.4907], grad_fn=<AddBackward0>)\n",
      "tensor([0.7385], grad_fn=<AddBackward0>)\n",
      "tensor([-0.2585], grad_fn=<AddBackward0>)\n",
      "tensor([0.4369], grad_fn=<AddBackward0>)\n",
      "tensor([-0.8218], grad_fn=<AddBackward0>)\n",
      "tensor([0.5608], grad_fn=<AddBackward0>)\n",
      "tensor([-0.8350], grad_fn=<AddBackward0>)\n",
      "tensor([0.0630], grad_fn=<AddBackward0>)\n",
      "tensor([-0.0369], grad_fn=<AddBackward0>)\n",
      "tensor([0.1482], grad_fn=<AddBackward0>)\n",
      "tensor([-0.1010], grad_fn=<AddBackward0>)\n",
      "tensor([-0.4945], grad_fn=<AddBackward0>)\n",
      "tensor([-0.2311], grad_fn=<AddBackward0>)\n",
      "tensor([-0.0406], grad_fn=<AddBackward0>)\n",
      "tensor([0.0421], grad_fn=<AddBackward0>)\n",
      "tensor([-0.0233], grad_fn=<AddBackward0>)\n",
      "tensor([0.2885], grad_fn=<AddBackward0>)\n",
      "tensor([-0.1968], grad_fn=<AddBackward0>)\n",
      "tensor([-0.2048], grad_fn=<AddBackward0>)\n",
      "tensor([-0.6383], grad_fn=<AddBackward0>)\n",
      "tensor([-0.2676], grad_fn=<AddBackward0>)\n",
      "tensor([0.5526], grad_fn=<AddBackward0>)\n",
      "tensor([-0.5723], grad_fn=<AddBackward0>)\n",
      "tensor([0.0047], grad_fn=<AddBackward0>)\n",
      "tensor([0.2625], grad_fn=<AddBackward0>)\n",
      "tensor([1.1280], grad_fn=<AddBackward0>)\n",
      "tensor([-0.0142], grad_fn=<AddBackward0>)\n",
      "tensor([-0.0010], grad_fn=<AddBackward0>)\n",
      "tensor([1.0909], grad_fn=<AddBackward0>)\n",
      "tensor([0.3975], grad_fn=<AddBackward0>)\n",
      "tensor([0.6070], grad_fn=<AddBackward0>)\n",
      "tensor([0.4410], grad_fn=<AddBackward0>)\n",
      "tensor([0.1796], grad_fn=<AddBackward0>)\n",
      "tensor([-0.8523], grad_fn=<AddBackward0>)\n",
      "tensor([0.3855], grad_fn=<AddBackward0>)\n",
      "tensor([0.0714], grad_fn=<AddBackward0>)\n",
      "tensor([0.1567], grad_fn=<AddBackward0>)\n",
      "tensor([0.7360], grad_fn=<AddBackward0>)\n",
      "tensor([0.5433], grad_fn=<AddBackward0>)\n",
      "tensor([0.7273], grad_fn=<AddBackward0>)\n",
      "tensor([0.1305], grad_fn=<AddBackward0>)\n",
      "tensor([-0.3227], grad_fn=<AddBackward0>)\n",
      "tensor([-0.4364], grad_fn=<AddBackward0>)\n",
      "tensor([-0.1154], grad_fn=<AddBackward0>)\n",
      "tensor([0.3137], grad_fn=<AddBackward0>)\n",
      "tensor([-0.4198], grad_fn=<AddBackward0>)\n",
      "tensor([-0.9228], grad_fn=<AddBackward0>)\n",
      "tensor([-0.4303], grad_fn=<AddBackward0>)\n",
      "tensor([1.1933], grad_fn=<AddBackward0>)\n",
      "tensor([0.5169], grad_fn=<AddBackward0>)\n",
      "tensor([-0.1526], grad_fn=<AddBackward0>)\n",
      "tensor([0.2967], grad_fn=<AddBackward0>)\n",
      "tensor([0.7342], grad_fn=<AddBackward0>)\n",
      "tensor([1.1429], grad_fn=<AddBackward0>)\n",
      "tensor([0.4892], grad_fn=<AddBackward0>)\n",
      "tensor([0.5585], grad_fn=<AddBackward0>)\n",
      "tensor([1.2643], grad_fn=<AddBackward0>)\n",
      "tensor([0.1742], grad_fn=<AddBackward0>)\n",
      "tensor([0.1787], grad_fn=<AddBackward0>)\n"
     ]
    }
   ],
   "source": [
    "for _ in range(100):\n",
    "    loss = model(torch.randn(10))\n",
    "    print(loss)\n",
    "    loss.backward()\n",
    "\n",
    "    opt.step()\n",
    "    opt.zero_grad()"
   ]
  },
  {
   "cell_type": "code",
   "execution_count": null,
   "metadata": {},
   "outputs": [],
   "source": []
  }
 ],
 "metadata": {
  "kernelspec": {
   "display_name": "base",
   "language": "python",
   "name": "python3"
  },
  "language_info": {
   "codemirror_mode": {
    "name": "ipython",
    "version": 3
   },
   "file_extension": ".py",
   "mimetype": "text/x-python",
   "name": "python",
   "nbconvert_exporter": "python",
   "pygments_lexer": "ipython3",
   "version": "3.7.10"
  }
 },
 "nbformat": 4,
 "nbformat_minor": 2
}
